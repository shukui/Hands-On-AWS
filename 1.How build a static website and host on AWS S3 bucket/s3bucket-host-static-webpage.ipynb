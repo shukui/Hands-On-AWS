{
 "cells": [
  {
   "cell_type": "code",
   "execution_count": 5,
   "metadata": {},
   "outputs": [],
   "source": [
    "import boto3\n",
    "import os\n",
    "\n",
    "# Set up S3 client\n",
    "s3_client = boto3.client('s3')\n",
    "\n",
    "# Set up S3 resource\n",
    "s3_resource = boto3.resource('s3')\n",
    "\n",
    "# Set bucket name and region\n",
    "bucket_name = 's3bucket-static-webpage20230503'"
   ]
  },
  {
   "cell_type": "code",
   "execution_count": null,
   "metadata": {},
   "outputs": [],
   "source": [
    "# Create S3 bucket\n",
    "try:\n",
    "    s3_client.create_bucket(Bucket=bucket_name)\n",
    "    print(f\"S3 bucket {bucket_name} created successfully.\")\n",
    "except Exception as e:\n",
    "    print(f\"Error creating S3 bucket: {e}\")"
   ]
  },
  {
   "cell_type": "code",
   "execution_count": 6,
   "metadata": {},
   "outputs": [
    {
     "name": "stdout",
     "output_type": "stream",
     "text": [
      "Upload complete\n"
     ]
    }
   ],
   "source": [
    "# Upload images folder\n",
    "try:\n",
    "\n",
    "    # Set the path to the local directory to upload \n",
    "    directory_path = 'images/' \n",
    "    # Get a list of all the files in the directory \n",
    "    file_names = os.listdir(directory_path) \n",
    "    # Loop through each file and upload it to the bucket \n",
    "    for file_name in file_names: \n",
    "        # Create the full local path of the file \n",
    "        local_path = os.path.join(directory_path, file_name) \n",
    "        # Create the S3 object key by removing the local directory path \n",
    "        s3_key = file_name \n",
    "        # Upload the file to S3 \n",
    "        s3_client.upload_file(local_path, bucket_name, s3_key) \n",
    "        # Print a message indicating that the upload is complete \n",
    "        print(\"Upload complete\")\n",
    "    \n",
    "except Exception as e:\n",
    "    print(f\"Error uploading index.html file: {e}\")"
   ]
  },
  {
   "cell_type": "code",
   "execution_count": null,
   "metadata": {},
   "outputs": [
    {
     "name": "stdout",
     "output_type": "stream",
     "text": [
      "Error uploading index.html file: name 'os' is not defined\n"
     ]
    }
   ],
   "source": [
    "# Upload images folder\n",
    "try:\n",
    "\n",
    "    # Set the path to the local directory to upload \n",
    "    directory_path = 'images/' \n",
    "    # Get a list of all the files in the directory \n",
    "    file_names = os.listdir(directory_path) \n",
    "    # Loop through each file and upload it to the bucket \n",
    "    for file_name in file_names: \n",
    "        # Create the full local path of the file \n",
    "        local_path = os.path.join(directory_path, file_name) \n",
    "        # Create the S3 object key by removing the local directory path \n",
    "        s3_key = file_name \n",
    "        # Upload the file to S3 \n",
    "        s3_client.upload_file(local_path, bucket_name, s3_key) \n",
    "        # Print a message indicating that the upload is complete \n",
    "        print(\"Upload complete\")\n",
    "    \n",
    "except Exception as e:\n",
    "    print(f\"Error uploading index.html file: {e}\")"
   ]
  },
  {
   "cell_type": "code",
   "execution_count": null,
   "metadata": {},
   "outputs": [
    {
     "name": "stdout",
     "output_type": "stream",
     "text": [
      "Error uploading index.html file: name 'os' is not defined\n"
     ]
    }
   ],
   "source": [
    "# Upload images folder\n",
    "try:\n",
    "\n",
    "    # Set the path to the local directory to upload \n",
    "    directory_path = 'images/' \n",
    "    # Get a list of all the files in the directory \n",
    "    file_names = os.listdir(directory_path) \n",
    "    # Loop through each file and upload it to the bucket \n",
    "    for file_name in file_names: \n",
    "        # Create the full local path of the file \n",
    "        local_path = os.path.join(directory_path, file_name) \n",
    "        # Create the S3 object key by removing the local directory path \n",
    "        s3_key = file_name \n",
    "        # Upload the file to S3 \n",
    "        s3_client.upload_file(local_path, bucket_name, s3_key) \n",
    "        # Print a message indicating that the upload is complete \n",
    "        print(\"Upload complete\")\n",
    "    \n",
    "except Exception as e:\n",
    "    print(f\"Error uploading index.html file: {e}\")"
   ]
  },
  {
   "cell_type": "code",
   "execution_count": null,
   "metadata": {},
   "outputs": [],
   "source": []
  },
  {
   "cell_type": "markdown",
   "metadata": {},
   "source": [
    "# Upload index.html file and image folder to S3 bucket\n",
    "try:\n",
    "    s3_resource.Object(bucket_name, 'index.html').upload_file('.\\\\index.html')\n",
    "    print(f\"index.html file uploaded successfully to S3 bucket {bucket_name}.\")\n",
    "    s3_resource.Object(bucket_name, 'error.html').upload_file('.\\\\error.html')\n",
    "    print(f\"error.html file uploaded successfully to S3 bucket {bucket_name}.\")\n",
    "    \n",
    "except Exception as e:\n",
    "    print(f\"Error uploading index.html file: {e}\")"
   ]
  },
  {
   "cell_type": "code",
   "execution_count": 4,
   "metadata": {},
   "outputs": [],
   "source": [
    "# Set index and error documents\n",
    "index_document = 'index.html'\n",
    "error_document = 'error.html'\n",
    "\n",
    "# Set S3 bucket website configuration\n",
    "website_configuration = {\n",
    "    'ErrorDocument': {'Key': error_document},\n",
    "    'IndexDocument': {'Suffix': index_document}\n",
    "}\n",
    "\n",
    "# Get S3 bucket website configuration\n",
    "try:\n",
    "    s3_client.put_bucket_website(Bucket=bucket_name, WebsiteConfiguration=website_configuration)\n",
    "except Exception as e:\n",
    "    print(f\"Error getting S3 bucket website configuration: {e}\")"
   ]
  },
  {
   "cell_type": "code",
   "execution_count": 5,
   "metadata": {},
   "outputs": [
    {
     "name": "stdout",
     "output_type": "stream",
     "text": [
      "{'ResponseMetadata': {'RequestId': 'ZQNWBF6HJT63DN0V', 'HostId': 'r4mMTXa2zjgPqkUtARAsTz7RFrz0vxyTpRCAna1qQ5JN8fOtSr0QpP+5RaiT3lep4aVL4YuPMi0=', 'HTTPStatusCode': 200, 'HTTPHeaders': {'x-amz-id-2': 'r4mMTXa2zjgPqkUtARAsTz7RFrz0vxyTpRCAna1qQ5JN8fOtSr0QpP+5RaiT3lep4aVL4YuPMi0=', 'x-amz-request-id': 'ZQNWBF6HJT63DN0V', 'date': 'Wed, 03 May 2023 15:01:23 GMT', 'server': 'AmazonS3', 'content-length': '0'}, 'RetryAttempts': 0}}\n"
     ]
    }
   ],
   "source": [
    "# Diesable to \"Block all public access\" setting for the bucket\n",
    "response = s3_client.put_public_access_block(\n",
    "    Bucket = bucket_name,\n",
    "    PublicAccessBlockConfiguration = {\n",
    "        'BlockPublicAcls': False,\n",
    "        'IgnorePublicAcls': False,\n",
    "        'BlockPublicPolicy':False,\n",
    "        'RestrictPublicBuckets':False\n",
    "    }\n",
    "    \n",
    ")\n",
    "\n",
    "print(response)"
   ]
  },
  {
   "cell_type": "code",
   "execution_count": 6,
   "metadata": {},
   "outputs": [
    {
     "ename": "ClientError",
     "evalue": "An error occurred (AccessControlListNotSupported) when calling the PutBucketAcl operation: The bucket does not allow ACLs",
     "output_type": "error",
     "traceback": [
      "\u001b[1;31m---------------------------------------------------------------------------\u001b[0m",
      "\u001b[1;31mClientError\u001b[0m                               Traceback (most recent call last)",
      "\u001b[1;32mc:\\Hands-On-AWS\\How host a static webpage on S3 bucket\\s3bucket-host-static-webpage.ipynb Cell 5\u001b[0m in \u001b[0;36m<cell line: 1>\u001b[1;34m()\u001b[0m\n\u001b[1;32m----> <a href='vscode-notebook-cell:/c%3A/Hands-On-AWS/How%20host%20a%20static%20webpage%20on%20S3%20bucket/s3bucket-host-static-webpage.ipynb#W5sZmlsZQ%3D%3D?line=0'>1</a>\u001b[0m response \u001b[39m=\u001b[39m s3_client\u001b[39m.\u001b[39;49mput_bucket_acl(\n\u001b[0;32m      <a href='vscode-notebook-cell:/c%3A/Hands-On-AWS/How%20host%20a%20static%20webpage%20on%20S3%20bucket/s3bucket-host-static-webpage.ipynb#W5sZmlsZQ%3D%3D?line=1'>2</a>\u001b[0m     Bucket \u001b[39m=\u001b[39;49m bucket_name,\n\u001b[0;32m      <a href='vscode-notebook-cell:/c%3A/Hands-On-AWS/How%20host%20a%20static%20webpage%20on%20S3%20bucket/s3bucket-host-static-webpage.ipynb#W5sZmlsZQ%3D%3D?line=2'>3</a>\u001b[0m     ACL \u001b[39m=\u001b[39;49m \u001b[39m'\u001b[39;49m\u001b[39mprivate\u001b[39;49m\u001b[39m'\u001b[39;49m\n\u001b[0;32m      <a href='vscode-notebook-cell:/c%3A/Hands-On-AWS/How%20host%20a%20static%20webpage%20on%20S3%20bucket/s3bucket-host-static-webpage.ipynb#W5sZmlsZQ%3D%3D?line=3'>4</a>\u001b[0m )\n\u001b[0;32m      <a href='vscode-notebook-cell:/c%3A/Hands-On-AWS/How%20host%20a%20static%20webpage%20on%20S3%20bucket/s3bucket-host-static-webpage.ipynb#W5sZmlsZQ%3D%3D?line=5'>6</a>\u001b[0m \u001b[39mprint\u001b[39m(response)\n",
      "File \u001b[1;32m~\\AppData\\Local\\Packages\\PythonSoftwareFoundation.Python.3.9_qbz5n2kfra8p0\\LocalCache\\local-packages\\Python39\\site-packages\\botocore\\client.py:530\u001b[0m, in \u001b[0;36mClientCreator._create_api_method.<locals>._api_call\u001b[1;34m(self, *args, **kwargs)\u001b[0m\n\u001b[0;32m    526\u001b[0m     \u001b[39mraise\u001b[39;00m \u001b[39mTypeError\u001b[39;00m(\n\u001b[0;32m    527\u001b[0m         \u001b[39mf\u001b[39m\u001b[39m\"\u001b[39m\u001b[39m{\u001b[39;00mpy_operation_name\u001b[39m}\u001b[39;00m\u001b[39m() only accepts keyword arguments.\u001b[39m\u001b[39m\"\u001b[39m\n\u001b[0;32m    528\u001b[0m     )\n\u001b[0;32m    529\u001b[0m \u001b[39m# The \"self\" in this scope is referring to the BaseClient.\u001b[39;00m\n\u001b[1;32m--> 530\u001b[0m \u001b[39mreturn\u001b[39;00m \u001b[39mself\u001b[39;49m\u001b[39m.\u001b[39;49m_make_api_call(operation_name, kwargs)\n",
      "File \u001b[1;32m~\\AppData\\Local\\Packages\\PythonSoftwareFoundation.Python.3.9_qbz5n2kfra8p0\\LocalCache\\local-packages\\Python39\\site-packages\\botocore\\client.py:960\u001b[0m, in \u001b[0;36mBaseClient._make_api_call\u001b[1;34m(self, operation_name, api_params)\u001b[0m\n\u001b[0;32m    958\u001b[0m     error_code \u001b[39m=\u001b[39m parsed_response\u001b[39m.\u001b[39mget(\u001b[39m\"\u001b[39m\u001b[39mError\u001b[39m\u001b[39m\"\u001b[39m, {})\u001b[39m.\u001b[39mget(\u001b[39m\"\u001b[39m\u001b[39mCode\u001b[39m\u001b[39m\"\u001b[39m)\n\u001b[0;32m    959\u001b[0m     error_class \u001b[39m=\u001b[39m \u001b[39mself\u001b[39m\u001b[39m.\u001b[39mexceptions\u001b[39m.\u001b[39mfrom_code(error_code)\n\u001b[1;32m--> 960\u001b[0m     \u001b[39mraise\u001b[39;00m error_class(parsed_response, operation_name)\n\u001b[0;32m    961\u001b[0m \u001b[39melse\u001b[39;00m:\n\u001b[0;32m    962\u001b[0m     \u001b[39mreturn\u001b[39;00m parsed_response\n",
      "\u001b[1;31mClientError\u001b[0m: An error occurred (AccessControlListNotSupported) when calling the PutBucketAcl operation: The bucket does not allow ACLs"
     ]
    }
   ],
   "source": [
    "# last 2 steps\n",
    "# Permissions--Object Ownership -- ACLs Enabled -- Save Changes\n",
    "# index.html and images folder select -- actions --Make public using ACL"
   ]
  },
  {
   "cell_type": "code",
   "execution_count": null,
   "metadata": {},
   "outputs": [],
   "source": []
  }
 ],
 "metadata": {
  "kernelspec": {
   "display_name": "Python 3",
   "language": "python",
   "name": "python3"
  },
  "language_info": {
   "codemirror_mode": {
    "name": "ipython",
    "version": 3
   },
   "file_extension": ".py",
   "mimetype": "text/x-python",
   "name": "python",
   "nbconvert_exporter": "python",
   "pygments_lexer": "ipython3",
   "version": "3.9.13"
  },
  "orig_nbformat": 4
 },
 "nbformat": 4,
 "nbformat_minor": 2
}
